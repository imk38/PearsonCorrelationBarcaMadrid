{
 "cells": [
  {
   "cell_type": "code",
   "execution_count": 82,
   "id": "bd250ed8",
   "metadata": {},
   "outputs": [
    {
     "data": {
      "text/html": [
       "<div>\n",
       "<style scoped>\n",
       "    .dataframe tbody tr th:only-of-type {\n",
       "        vertical-align: middle;\n",
       "    }\n",
       "\n",
       "    .dataframe tbody tr th {\n",
       "        vertical-align: top;\n",
       "    }\n",
       "\n",
       "    .dataframe thead th {\n",
       "        text-align: right;\n",
       "    }\n",
       "</style>\n",
       "<table border=\"1\" class=\"dataframe\">\n",
       "  <thead>\n",
       "    <tr style=\"text-align: right;\">\n",
       "      <th></th>\n",
       "      <th>Season</th>\n",
       "      <th>Squad</th>\n",
       "      <th>Country</th>\n",
       "      <th>Comp</th>\n",
       "      <th>LgRank</th>\n",
       "      <th>MP</th>\n",
       "      <th>W</th>\n",
       "      <th>D</th>\n",
       "      <th>L</th>\n",
       "      <th>GF</th>\n",
       "      <th>GA</th>\n",
       "      <th>GD</th>\n",
       "      <th>Pts</th>\n",
       "    </tr>\n",
       "  </thead>\n",
       "  <tbody>\n",
       "    <tr>\n",
       "      <th>0</th>\n",
       "      <td>1988-1989</td>\n",
       "      <td>Barcelona</td>\n",
       "      <td>es ESP</td>\n",
       "      <td>1. La Liga</td>\n",
       "      <td>2nd</td>\n",
       "      <td>38</td>\n",
       "      <td>23</td>\n",
       "      <td>11</td>\n",
       "      <td>4</td>\n",
       "      <td>80</td>\n",
       "      <td>26</td>\n",
       "      <td>54</td>\n",
       "      <td>57</td>\n",
       "    </tr>\n",
       "    <tr>\n",
       "      <th>1</th>\n",
       "      <td>1989-1990</td>\n",
       "      <td>Barcelona</td>\n",
       "      <td>es ESP</td>\n",
       "      <td>1. La Liga</td>\n",
       "      <td>3rd</td>\n",
       "      <td>38</td>\n",
       "      <td>23</td>\n",
       "      <td>5</td>\n",
       "      <td>10</td>\n",
       "      <td>83</td>\n",
       "      <td>39</td>\n",
       "      <td>44</td>\n",
       "      <td>51</td>\n",
       "    </tr>\n",
       "    <tr>\n",
       "      <th>2</th>\n",
       "      <td>1990-1991</td>\n",
       "      <td>Barcelona</td>\n",
       "      <td>es ESP</td>\n",
       "      <td>1. La Liga</td>\n",
       "      <td>1st</td>\n",
       "      <td>38</td>\n",
       "      <td>25</td>\n",
       "      <td>7</td>\n",
       "      <td>6</td>\n",
       "      <td>74</td>\n",
       "      <td>33</td>\n",
       "      <td>41</td>\n",
       "      <td>57</td>\n",
       "    </tr>\n",
       "    <tr>\n",
       "      <th>3</th>\n",
       "      <td>1991-1992</td>\n",
       "      <td>Barcelona</td>\n",
       "      <td>es ESP</td>\n",
       "      <td>1. La Liga</td>\n",
       "      <td>1st</td>\n",
       "      <td>38</td>\n",
       "      <td>23</td>\n",
       "      <td>9</td>\n",
       "      <td>6</td>\n",
       "      <td>87</td>\n",
       "      <td>37</td>\n",
       "      <td>50</td>\n",
       "      <td>55</td>\n",
       "    </tr>\n",
       "    <tr>\n",
       "      <th>4</th>\n",
       "      <td>1992-1993</td>\n",
       "      <td>Barcelona</td>\n",
       "      <td>es ESP</td>\n",
       "      <td>1. La Liga</td>\n",
       "      <td>1st</td>\n",
       "      <td>38</td>\n",
       "      <td>25</td>\n",
       "      <td>8</td>\n",
       "      <td>5</td>\n",
       "      <td>87</td>\n",
       "      <td>34</td>\n",
       "      <td>53</td>\n",
       "      <td>58</td>\n",
       "    </tr>\n",
       "  </tbody>\n",
       "</table>\n",
       "</div>"
      ],
      "text/plain": [
       "      Season      Squad Country        Comp LgRank  MP   W   D   L  GF  GA  \\\n",
       "0  1988-1989  Barcelona  es ESP  1. La Liga    2nd  38  23  11   4  80  26   \n",
       "1  1989-1990  Barcelona  es ESP  1. La Liga    3rd  38  23   5  10  83  39   \n",
       "2  1990-1991  Barcelona  es ESP  1. La Liga    1st  38  25   7   6  74  33   \n",
       "3  1991-1992  Barcelona  es ESP  1. La Liga    1st  38  23   9   6  87  37   \n",
       "4  1992-1993  Barcelona  es ESP  1. La Liga    1st  38  25   8   5  87  34   \n",
       "\n",
       "   GD  Pts  \n",
       "0  54   57  \n",
       "1  44   51  \n",
       "2  41   57  \n",
       "3  50   55  \n",
       "4  53   58  "
      ]
     },
     "execution_count": 82,
     "metadata": {},
     "output_type": "execute_result"
    }
   ],
   "source": [
    "import pandas as pd\n",
    "import matplotlib.pyplot as plt\n",
    "import numpy as np\n",
    "import seaborn as sns\n",
    "from matplotlib import pyplot\n",
    "from scipy.stats import pearsonr\n",
    "from scipy import stats\n",
    "%matplotlib inline\n",
    "\n",
    "\n",
    "Barca = pd.read_csv(\"BarcaFinal - Sheet1.csv\")\n",
    "\n",
    "\n",
    "Barca.head()"
   ]
  },
  {
   "cell_type": "code",
   "execution_count": 83,
   "id": "c9b760da",
   "metadata": {},
   "outputs": [
    {
     "data": {
      "text/html": [
       "<div>\n",
       "<style scoped>\n",
       "    .dataframe tbody tr th:only-of-type {\n",
       "        vertical-align: middle;\n",
       "    }\n",
       "\n",
       "    .dataframe tbody tr th {\n",
       "        vertical-align: top;\n",
       "    }\n",
       "\n",
       "    .dataframe thead th {\n",
       "        text-align: right;\n",
       "    }\n",
       "</style>\n",
       "<table border=\"1\" class=\"dataframe\">\n",
       "  <thead>\n",
       "    <tr style=\"text-align: right;\">\n",
       "      <th></th>\n",
       "      <th>Season</th>\n",
       "      <th>Squad</th>\n",
       "      <th>Country</th>\n",
       "      <th>Comp</th>\n",
       "      <th>LgRank</th>\n",
       "      <th>MP</th>\n",
       "      <th>W</th>\n",
       "      <th>D</th>\n",
       "      <th>L</th>\n",
       "      <th>GF</th>\n",
       "      <th>GA</th>\n",
       "      <th>GD</th>\n",
       "      <th>Pts</th>\n",
       "    </tr>\n",
       "  </thead>\n",
       "  <tbody>\n",
       "    <tr>\n",
       "      <th>0</th>\n",
       "      <td>1988-1989</td>\n",
       "      <td>Real Madrid</td>\n",
       "      <td>es ESP</td>\n",
       "      <td>1. La Liga</td>\n",
       "      <td>1st</td>\n",
       "      <td>38</td>\n",
       "      <td>25</td>\n",
       "      <td>12</td>\n",
       "      <td>1</td>\n",
       "      <td>91</td>\n",
       "      <td>37</td>\n",
       "      <td>54</td>\n",
       "      <td>62</td>\n",
       "    </tr>\n",
       "    <tr>\n",
       "      <th>1</th>\n",
       "      <td>1989-1990</td>\n",
       "      <td>Real Madrid</td>\n",
       "      <td>es ESP</td>\n",
       "      <td>1. La Liga</td>\n",
       "      <td>1st</td>\n",
       "      <td>38</td>\n",
       "      <td>26</td>\n",
       "      <td>10</td>\n",
       "      <td>2</td>\n",
       "      <td>107</td>\n",
       "      <td>38</td>\n",
       "      <td>69</td>\n",
       "      <td>62</td>\n",
       "    </tr>\n",
       "    <tr>\n",
       "      <th>2</th>\n",
       "      <td>1990-1991</td>\n",
       "      <td>Real Madrid</td>\n",
       "      <td>es ESP</td>\n",
       "      <td>1. La Liga</td>\n",
       "      <td>3rd</td>\n",
       "      <td>38</td>\n",
       "      <td>20</td>\n",
       "      <td>6</td>\n",
       "      <td>12</td>\n",
       "      <td>63</td>\n",
       "      <td>37</td>\n",
       "      <td>26</td>\n",
       "      <td>46</td>\n",
       "    </tr>\n",
       "    <tr>\n",
       "      <th>3</th>\n",
       "      <td>1991-1992</td>\n",
       "      <td>Real Madrid</td>\n",
       "      <td>es ESP</td>\n",
       "      <td>1. La Liga</td>\n",
       "      <td>2nd</td>\n",
       "      <td>38</td>\n",
       "      <td>23</td>\n",
       "      <td>8</td>\n",
       "      <td>7</td>\n",
       "      <td>78</td>\n",
       "      <td>32</td>\n",
       "      <td>46</td>\n",
       "      <td>54</td>\n",
       "    </tr>\n",
       "    <tr>\n",
       "      <th>4</th>\n",
       "      <td>1992-1993</td>\n",
       "      <td>Real Madrid</td>\n",
       "      <td>es ESP</td>\n",
       "      <td>1. La Liga</td>\n",
       "      <td>2nd</td>\n",
       "      <td>38</td>\n",
       "      <td>24</td>\n",
       "      <td>9</td>\n",
       "      <td>5</td>\n",
       "      <td>75</td>\n",
       "      <td>28</td>\n",
       "      <td>47</td>\n",
       "      <td>57</td>\n",
       "    </tr>\n",
       "  </tbody>\n",
       "</table>\n",
       "</div>"
      ],
      "text/plain": [
       "      Season        Squad Country        Comp LgRank  MP   W   D   L   GF  GA  \\\n",
       "0  1988-1989  Real Madrid  es ESP  1. La Liga    1st  38  25  12   1   91  37   \n",
       "1  1989-1990  Real Madrid  es ESP  1. La Liga    1st  38  26  10   2  107  38   \n",
       "2  1990-1991  Real Madrid  es ESP  1. La Liga    3rd  38  20   6  12   63  37   \n",
       "3  1991-1992  Real Madrid  es ESP  1. La Liga    2nd  38  23   8   7   78  32   \n",
       "4  1992-1993  Real Madrid  es ESP  1. La Liga    2nd  38  24   9   5   75  28   \n",
       "\n",
       "   GD  Pts  \n",
       "0  54   62  \n",
       "1  69   62  \n",
       "2  26   46  \n",
       "3  46   54  \n",
       "4  47   57  "
      ]
     },
     "execution_count": 83,
     "metadata": {},
     "output_type": "execute_result"
    }
   ],
   "source": [
    "Real = pd.read_csv(\"MadridFinal - Sheet1.csv\")\n",
    "Real.head()"
   ]
  },
  {
   "cell_type": "code",
   "execution_count": 116,
   "id": "55ea5b22",
   "metadata": {},
   "outputs": [
    {
     "data": {
      "text/plain": [
       "Text(0.5, 1.0, 'Barca Pts')"
      ]
     },
     "execution_count": 116,
     "metadata": {},
     "output_type": "execute_result"
    },
    {
     "data": {
      "image/png": "[encoded data removed]",
      "text/plain": [
       "<Figure size 432x288 with 1 Axes>"
      ]
     },
     "metadata": {
      "needs_background": "light"
     },
     "output_type": "display_data"
    }
   ],
   "source": [
    "Barca.plot(x = 'Season', y = 'Pts', style = 'o')\n",
    "plt.title('Barca Pts')\n"
   ]
  },
  {
   "cell_type": "code",
   "execution_count": 115,
   "id": "7519c60e",
   "metadata": {},
   "outputs": [
    {
     "data": {
      "text/plain": [
       "Text(0.5, 1.0, 'Real Pts')"
      ]
     },
     "execution_count": 115,
     "metadata": {},
     "output_type": "execute_result"
    },
    {
     "data": {
      "image/png": "[encoded data removed]",
      "text/plain": [
       "<Figure size 432x288 with 1 Axes>"
      ]
     },
     "metadata": {
      "needs_background": "light"
     },
     "output_type": "display_data"
    }
   ],
   "source": [
    "Real.plot(x = 'Season', y = 'Pts', style = 'o')\n",
    "plt.title('Real Pts')"
   ]
  },
  {
   "cell_type": "code",
   "execution_count": 114,
   "id": "a201fd79",
   "metadata": {},
   "outputs": [
    {
     "data": {
      "text/plain": [
       "Text(0.5, 1.0, 'Barca GD')"
      ]
     },
     "execution_count": 114,
     "metadata": {},
     "output_type": "execute_result"
    },
    {
     "data": {
      "image/png": "[encoded data removed]",
      "text/plain": [
       "<Figure size 432x288 with 1 Axes>"
      ]
     },
     "metadata": {
      "needs_background": "light"
     },
     "output_type": "display_data"
    }
   ],
   "source": [
    "Barca.plot(x = 'Season', y = 'GD', style = 'o')\n",
    "plt.title('Barca GD')"
   ]
  },
  {
   "cell_type": "code",
   "execution_count": 113,
   "id": "c9180f27",
   "metadata": {},
   "outputs": [
    {
     "data": {
      "text/plain": [
       "Text(0.5, 1.0, 'Real GD')"
      ]
     },
     "execution_count": 113,
     "metadata": {},
     "output_type": "execute_result"
    },
    {
     "data": {
      "image/png": "[encoded data removed]",
      "text/plain": [
       "<Figure size 432x288 with 1 Axes>"
      ]
     },
     "metadata": {
      "needs_background": "light"
     },
     "output_type": "display_data"
    }
   ],
   "source": [
    "Real.plot(x = 'Season', y = 'GD', style = 'o')\n",
    "plt.title('Real GD')"
   ]
  },
  {
   "cell_type": "code",
   "execution_count": 112,
   "id": "50ae7692",
   "metadata": {},
   "outputs": [
    {
     "data": {
      "text/plain": [
       "Text(0.5, 1.0, 'Barca GA')"
      ]
     },
     "execution_count": 112,
     "metadata": {},
     "output_type": "execute_result"
    },
    {
     "data": {
      "image/png": "[encoded data removed]",
      "text/plain": [
       "<Figure size 432x288 with 1 Axes>"
      ]
     },
     "metadata": {
      "needs_background": "light"
     },
     "output_type": "display_data"
    }
   ],
   "source": [
    "Barca.plot(x = 'Season', y = 'GA', style = 'o')\n",
    "plt.title('Barca GA')"
   ]
  },
  {
   "cell_type": "code",
   "execution_count": 111,
   "id": "26093c9b",
   "metadata": {},
   "outputs": [
    {
     "data": {
      "text/plain": [
       "Text(0.5, 1.0, 'Real GA')"
      ]
     },
     "execution_count": 111,
     "metadata": {},
     "output_type": "execute_result"
    },
    {
     "data": {
      "image/png": "[encoded data removed]",
      "text/plain": [
       "<Figure size 432x288 with 1 Axes>"
      ]
     },
     "metadata": {
      "needs_background": "light"
     },
     "output_type": "display_data"
    }
   ],
   "source": [
    "Real.plot(x = 'Season', y = 'GA', style = 'o')\n",
    "plt.title('Real GA')"
   ]
  },
  {
   "cell_type": "code",
   "execution_count": 110,
   "id": "6f2d1356",
   "metadata": {},
   "outputs": [
    {
     "data": {
      "text/plain": [
       "Text(0.5, 1.0, 'Barca GF')"
      ]
     },
     "execution_count": 110,
     "metadata": {},
     "output_type": "execute_result"
    },
    {
     "data": {
      "image/png": "[encoded data removed]",
      "text/plain": [
       "<Figure size 432x288 with 1 Axes>"
      ]
     },
     "metadata": {
      "needs_background": "light"
     },
     "output_type": "display_data"
    }
   ],
   "source": [
    "Barca.plot(x = 'Season', y = 'GF', style = 'o')\n",
    "plt.title('Barca GF')"
   ]
  },
  {
   "cell_type": "code",
   "execution_count": 109,
   "id": "1f7d752a",
   "metadata": {},
   "outputs": [
    {
     "data": {
      "text/plain": [
       "Text(0.5, 1.0, 'Real GF')"
      ]
     },
     "execution_count": 109,
     "metadata": {},
     "output_type": "execute_result"
    },
    {
     "data": {
      "image/png": "[encoded data removed]",
      "text/plain": [
       "<Figure size 432x288 with 1 Axes>"
      ]
     },
     "metadata": {
      "needs_background": "light"
     },
     "output_type": "display_data"
    }
   ],
   "source": [
    "Real.plot(x = 'Season', y = 'GF', style = 'o')\n",
    "plt.title('Real GF')"
   ]
  },
  {
   "cell_type": "code",
   "execution_count": 92,
   "id": "1f4dce76",
   "metadata": {},
   "outputs": [
    {
     "data": {
      "text/html": [
       "<div>\n",
       "<style scoped>\n",
       "    .dataframe tbody tr th:only-of-type {\n",
       "        vertical-align: middle;\n",
       "    }\n",
       "\n",
       "    .dataframe tbody tr th {\n",
       "        vertical-align: top;\n",
       "    }\n",
       "\n",
       "    .dataframe thead th {\n",
       "        text-align: right;\n",
       "    }\n",
       "</style>\n",
       "<table border=\"1\" class=\"dataframe\">\n",
       "  <thead>\n",
       "    <tr style=\"text-align: right;\">\n",
       "      <th></th>\n",
       "      <th>MP</th>\n",
       "      <th>W</th>\n",
       "      <th>D</th>\n",
       "      <th>L</th>\n",
       "      <th>GF</th>\n",
       "      <th>GA</th>\n",
       "      <th>GD</th>\n",
       "      <th>Pts</th>\n",
       "    </tr>\n",
       "  </thead>\n",
       "  <tbody>\n",
       "    <tr>\n",
       "      <th>count</th>\n",
       "      <td>34.000000</td>\n",
       "      <td>34.000000</td>\n",
       "      <td>34.000000</td>\n",
       "      <td>34.000000</td>\n",
       "      <td>34.000000</td>\n",
       "      <td>34.000000</td>\n",
       "      <td>34.000000</td>\n",
       "      <td>34.000000</td>\n",
       "    </tr>\n",
       "    <tr>\n",
       "      <th>mean</th>\n",
       "      <td>38.235294</td>\n",
       "      <td>24.294118</td>\n",
       "      <td>7.764706</td>\n",
       "      <td>6.176471</td>\n",
       "      <td>86.529412</td>\n",
       "      <td>36.941176</td>\n",
       "      <td>49.588235</td>\n",
       "      <td>75.882353</td>\n",
       "    </tr>\n",
       "    <tr>\n",
       "      <th>std</th>\n",
       "      <td>0.955330</td>\n",
       "      <td>4.196170</td>\n",
       "      <td>2.425356</td>\n",
       "      <td>2.938466</td>\n",
       "      <td>16.169997</td>\n",
       "      <td>8.477926</td>\n",
       "      <td>21.000891</td>\n",
       "      <td>15.444455</td>\n",
       "    </tr>\n",
       "    <tr>\n",
       "      <th>min</th>\n",
       "      <td>38.000000</td>\n",
       "      <td>15.000000</td>\n",
       "      <td>4.000000</td>\n",
       "      <td>1.000000</td>\n",
       "      <td>60.000000</td>\n",
       "      <td>21.000000</td>\n",
       "      <td>15.000000</td>\n",
       "      <td>46.000000</td>\n",
       "    </tr>\n",
       "    <tr>\n",
       "      <th>25%</th>\n",
       "      <td>38.000000</td>\n",
       "      <td>22.000000</td>\n",
       "      <td>6.000000</td>\n",
       "      <td>4.000000</td>\n",
       "      <td>74.500000</td>\n",
       "      <td>33.000000</td>\n",
       "      <td>33.000000</td>\n",
       "      <td>63.250000</td>\n",
       "    </tr>\n",
       "    <tr>\n",
       "      <th>50%</th>\n",
       "      <td>38.000000</td>\n",
       "      <td>25.000000</td>\n",
       "      <td>7.000000</td>\n",
       "      <td>6.000000</td>\n",
       "      <td>85.500000</td>\n",
       "      <td>37.000000</td>\n",
       "      <td>47.500000</td>\n",
       "      <td>79.000000</td>\n",
       "    </tr>\n",
       "    <tr>\n",
       "      <th>75%</th>\n",
       "      <td>38.000000</td>\n",
       "      <td>27.750000</td>\n",
       "      <td>9.750000</td>\n",
       "      <td>8.000000</td>\n",
       "      <td>98.750000</td>\n",
       "      <td>41.500000</td>\n",
       "      <td>69.250000</td>\n",
       "      <td>89.250000</td>\n",
       "    </tr>\n",
       "    <tr>\n",
       "      <th>max</th>\n",
       "      <td>42.000000</td>\n",
       "      <td>32.000000</td>\n",
       "      <td>14.000000</td>\n",
       "      <td>12.000000</td>\n",
       "      <td>116.000000</td>\n",
       "      <td>57.000000</td>\n",
       "      <td>89.000000</td>\n",
       "      <td>100.000000</td>\n",
       "    </tr>\n",
       "  </tbody>\n",
       "</table>\n",
       "</div>"
      ],
      "text/plain": [
       "              MP          W          D          L          GF         GA  \\\n",
       "count  34.000000  34.000000  34.000000  34.000000   34.000000  34.000000   \n",
       "mean   38.235294  24.294118   7.764706   6.176471   86.529412  36.941176   \n",
       "std     0.955330   4.196170   2.425356   2.938466   16.169997   8.477926   \n",
       "min    38.000000  15.000000   4.000000   1.000000   60.000000  21.000000   \n",
       "25%    38.000000  22.000000   6.000000   4.000000   74.500000  33.000000   \n",
       "50%    38.000000  25.000000   7.000000   6.000000   85.500000  37.000000   \n",
       "75%    38.000000  27.750000   9.750000   8.000000   98.750000  41.500000   \n",
       "max    42.000000  32.000000  14.000000  12.000000  116.000000  57.000000   \n",
       "\n",
       "              GD         Pts  \n",
       "count  34.000000   34.000000  \n",
       "mean   49.588235   75.882353  \n",
       "std    21.000891   15.444455  \n",
       "min    15.000000   46.000000  \n",
       "25%    33.000000   63.250000  \n",
       "50%    47.500000   79.000000  \n",
       "75%    69.250000   89.250000  \n",
       "max    89.000000  100.000000  "
      ]
     },
     "execution_count": 92,
     "metadata": {},
     "output_type": "execute_result"
    }
   ],
   "source": [
    "Barca.describe()"
   ]
  },
  {
   "cell_type": "code",
   "execution_count": 93,
   "id": "fadef0a4",
   "metadata": {},
   "outputs": [
    {
     "data": {
      "text/html": [
       "<div>\n",
       "<style scoped>\n",
       "    .dataframe tbody tr th:only-of-type {\n",
       "        vertical-align: middle;\n",
       "    }\n",
       "\n",
       "    .dataframe tbody tr th {\n",
       "        vertical-align: top;\n",
       "    }\n",
       "\n",
       "    .dataframe thead th {\n",
       "        text-align: right;\n",
       "    }\n",
       "</style>\n",
       "<table border=\"1\" class=\"dataframe\">\n",
       "  <thead>\n",
       "    <tr style=\"text-align: right;\">\n",
       "      <th></th>\n",
       "      <th>MP</th>\n",
       "      <th>W</th>\n",
       "      <th>D</th>\n",
       "      <th>L</th>\n",
       "      <th>GF</th>\n",
       "      <th>GA</th>\n",
       "      <th>GD</th>\n",
       "      <th>Pts</th>\n",
       "    </tr>\n",
       "  </thead>\n",
       "  <tbody>\n",
       "    <tr>\n",
       "      <th>count</th>\n",
       "      <td>34.000000</td>\n",
       "      <td>34.000000</td>\n",
       "      <td>34.000000</td>\n",
       "      <td>34.000000</td>\n",
       "      <td>34.000000</td>\n",
       "      <td>34.000000</td>\n",
       "      <td>34.000000</td>\n",
       "      <td>34.000000</td>\n",
       "    </tr>\n",
       "    <tr>\n",
       "      <th>mean</th>\n",
       "      <td>38.235294</td>\n",
       "      <td>24.088235</td>\n",
       "      <td>7.588235</td>\n",
       "      <td>6.558824</td>\n",
       "      <td>83.264706</td>\n",
       "      <td>39.411765</td>\n",
       "      <td>43.852941</td>\n",
       "      <td>75.147059</td>\n",
       "    </tr>\n",
       "    <tr>\n",
       "      <th>std</th>\n",
       "      <td>0.955330</td>\n",
       "      <td>3.934060</td>\n",
       "      <td>2.924480</td>\n",
       "      <td>3.258473</td>\n",
       "      <td>17.552189</td>\n",
       "      <td>8.308877</td>\n",
       "      <td>21.006683</td>\n",
       "      <td>14.618652</td>\n",
       "    </tr>\n",
       "    <tr>\n",
       "      <th>min</th>\n",
       "      <td>38.000000</td>\n",
       "      <td>16.000000</td>\n",
       "      <td>2.000000</td>\n",
       "      <td>1.000000</td>\n",
       "      <td>58.000000</td>\n",
       "      <td>25.000000</td>\n",
       "      <td>10.000000</td>\n",
       "      <td>45.000000</td>\n",
       "    </tr>\n",
       "    <tr>\n",
       "      <th>25%</th>\n",
       "      <td>38.000000</td>\n",
       "      <td>21.000000</td>\n",
       "      <td>5.250000</td>\n",
       "      <td>4.000000</td>\n",
       "      <td>70.000000</td>\n",
       "      <td>33.250000</td>\n",
       "      <td>26.000000</td>\n",
       "      <td>63.750000</td>\n",
       "    </tr>\n",
       "    <tr>\n",
       "      <th>50%</th>\n",
       "      <td>38.000000</td>\n",
       "      <td>24.500000</td>\n",
       "      <td>7.500000</td>\n",
       "      <td>6.000000</td>\n",
       "      <td>79.000000</td>\n",
       "      <td>38.000000</td>\n",
       "      <td>45.500000</td>\n",
       "      <td>77.000000</td>\n",
       "    </tr>\n",
       "    <tr>\n",
       "      <th>75%</th>\n",
       "      <td>38.000000</td>\n",
       "      <td>26.750000</td>\n",
       "      <td>9.750000</td>\n",
       "      <td>8.750000</td>\n",
       "      <td>100.000000</td>\n",
       "      <td>44.000000</td>\n",
       "      <td>59.250000</td>\n",
       "      <td>86.750000</td>\n",
       "    </tr>\n",
       "    <tr>\n",
       "      <th>max</th>\n",
       "      <td>42.000000</td>\n",
       "      <td>32.000000</td>\n",
       "      <td>14.000000</td>\n",
       "      <td>12.000000</td>\n",
       "      <td>121.000000</td>\n",
       "      <td>62.000000</td>\n",
       "      <td>89.000000</td>\n",
       "      <td>100.000000</td>\n",
       "    </tr>\n",
       "  </tbody>\n",
       "</table>\n",
       "</div>"
      ],
      "text/plain": [
       "              MP          W          D          L          GF         GA  \\\n",
       "count  34.000000  34.000000  34.000000  34.000000   34.000000  34.000000   \n",
       "mean   38.235294  24.088235   7.588235   6.558824   83.264706  39.411765   \n",
       "std     0.955330   3.934060   2.924480   3.258473   17.552189   8.308877   \n",
       "min    38.000000  16.000000   2.000000   1.000000   58.000000  25.000000   \n",
       "25%    38.000000  21.000000   5.250000   4.000000   70.000000  33.250000   \n",
       "50%    38.000000  24.500000   7.500000   6.000000   79.000000  38.000000   \n",
       "75%    38.000000  26.750000   9.750000   8.750000  100.000000  44.000000   \n",
       "max    42.000000  32.000000  14.000000  12.000000  121.000000  62.000000   \n",
       "\n",
       "              GD         Pts  \n",
       "count  34.000000   34.000000  \n",
       "mean   43.852941   75.147059  \n",
       "std    21.006683   14.618652  \n",
       "min    10.000000   45.000000  \n",
       "25%    26.000000   63.750000  \n",
       "50%    45.500000   77.000000  \n",
       "75%    59.250000   86.750000  \n",
       "max    89.000000  100.000000  "
      ]
     },
     "execution_count": 93,
     "metadata": {},
     "output_type": "execute_result"
    }
   ],
   "source": [
    "Real.describe()"
   ]
  },
  {
   "cell_type": "code",
   "execution_count": 94,
   "id": "f7161d4d",
   "metadata": {},
   "outputs": [
    {
     "data": {
      "text/plain": [
       "<AxesSubplot:>"
      ]
     },
     "execution_count": 94,
     "metadata": {},
     "output_type": "execute_result"
    },
    {
     "data": {
      "image/png": "[encoded data removed]",
      "text/plain": [
       "<Figure size 432x288 with 2 Axes>"
      ]
     },
     "metadata": {
      "needs_background": "light"
     },
     "output_type": "display_data"
    }
   ],
   "source": [
    "sns.heatmap(Barca.corr(), annot = True, center = 0)\n",
    "\n",
    "#Project IDea, use the pearson correlation. Make new CSV's for each of the individual stats Real Madrid VS Barca\n",
    "#for categories like goals, GD, Points, GF, GA, etc and see if they are correlated"
   ]
  },
  {
   "cell_type": "code",
   "execution_count": 106,
   "id": "8d4a467a",
   "metadata": {},
   "outputs": [
    {
     "name": "stdout",
     "output_type": "stream",
     "text": [
      "   Barca  Real\n",
      "0     57    62\n",
      "1     51    62\n",
      "2     57    46\n",
      "3     55    54\n",
      "4     58    57\n",
      "the pearson correlation chart is: \n",
      "          Barca      Real\n",
      "Barca  1.000000  0.775851\n",
      "Real   0.775851  1.000000\n",
      "-----    \n",
      "the pearson correlation is: \n",
      "(0.7758507259910394, 7.034003394564236e-08)\n"
     ]
    },
    {
     "data": {
      "image/png": "[encoded data removed]",
      "text/plain": [
       "<Figure size 432x288 with 1 Axes>"
      ]
     },
     "metadata": {
      "needs_background": "light"
     },
     "output_type": "display_data"
    }
   ],
   "source": [
    "points = pd.read_csv(\"PointsPearsonC - Sheet1.csv\")\n",
    "print(points.head())\n",
    "\n",
    "pearsoncorr = points.corr(method = 'pearson')\n",
    "\n",
    "print('the pearson correlation chart is: ')\n",
    "print(pearsoncorr)\n",
    "\n",
    "print('-----    ')\n",
    "print('the pearson correlation is: ')\n",
    "pointsC = stats.pearsonr(points.iloc[:,0],points.iloc[:,1])\n",
    "print(pointsC)\n",
    "\n",
    "pyplot.scatter(points.iloc[:,0], points.iloc[:,1])\n",
    "plt.title('Points scatterplot')\n",
    "pyplot.show()\n",
    "\n",
    "\n"
   ]
  },
  {
   "cell_type": "code",
   "execution_count": 74,
   "id": "0dcc03b5",
   "metadata": {},
   "outputs": [],
   "source": [
    "#points2 = pd.read_csv(\"trial - Sheet1.csv\")\n",
    "#print(points2.head())\n",
    "\n",
    "#pearsoncorr2 = points2.corr(method = 'pearson')\n",
    "\n",
    "#print('the pearson correlation is: ')\n",
    "#print(pearsoncorr2)\n",
    "\n",
    "#pyplot.scatter(points2.iloc[:,0], points2.iloc[:,1])\n",
    "#pyplot.show()\n"
   ]
  },
  {
   "cell_type": "code",
   "execution_count": 75,
   "id": "532c08eb",
   "metadata": {},
   "outputs": [],
   "source": [
    "#points3 = pd.read_csv(\"trialA - Sheet1.csv\")\n",
    "#print(points3.head())\n",
    "\n",
    "#pearsoncorr3 = points3.corr(method = 'pearson')\n",
    "\n",
    "#print('the pearson correlation is: ')\n",
    "#print(pearsoncorr3)\n",
    "\n",
    "#pyplot.scatter(points3.iloc[:,0], points3.iloc[:,1])\n",
    "#pyplot.show()\n"
   ]
  },
  {
   "cell_type": "code",
   "execution_count": 105,
   "id": "128c40b1",
   "metadata": {},
   "outputs": [
    {
     "name": "stdout",
     "output_type": "stream",
     "text": [
      "   Barca  Real\n",
      "0     54    54\n",
      "1     44    69\n",
      "2     41    26\n",
      "3     50    46\n",
      "4     53    47\n",
      "the pearson correlation chart  is: \n",
      "          Barca      Real\n",
      "Barca  1.000000  0.665598\n",
      "Real   0.665598  1.000000\n",
      "-----    \n",
      "the pearson correlation is: \n",
      "(0.6655979630053104, 1.743125493203206e-05)\n"
     ]
    },
    {
     "data": {
      "image/png": "[encoded data removed]",
      "text/plain": [
       "<Figure size 432x288 with 1 Axes>"
      ]
     },
     "metadata": {
      "needs_background": "light"
     },
     "output_type": "display_data"
    }
   ],
   "source": [
    "GD = pd.read_csv(\"GD - Sheet1.csv\")\n",
    "print(GD.head())\n",
    "\n",
    "pearsoncorrGD = GD.corr(method = 'pearson')\n",
    "\n",
    "print('the pearson correlation chart  is: ')\n",
    "print(pearsoncorrGD)\n",
    "\n",
    "print('-----    ')\n",
    "print('the pearson correlation is: ')\n",
    "GDC = stats.pearsonr(GD.iloc[:,0],GD.iloc[:,1])\n",
    "print(GDC)\n",
    "\n",
    "pyplot.scatter(GD.iloc[:,0], GD.iloc[:,1])\n",
    "plt.title('GD scatterplot')\n",
    "pyplot.show()"
   ]
  },
  {
   "cell_type": "code",
   "execution_count": 107,
   "id": "c0e0a472",
   "metadata": {},
   "outputs": [
    {
     "name": "stdout",
     "output_type": "stream",
     "text": [
      "   Barca  RealMadrid\n",
      "0     80          91\n",
      "1     83         107\n",
      "2     74          63\n",
      "3     87          78\n",
      "4     87          75\n",
      "the pearson correlation Chart is: \n",
      "               Barca  RealMadrid\n",
      "Barca       1.000000    0.685909\n",
      "RealMadrid  0.685909    1.000000\n",
      "-----    \n",
      "the pearson correlation is: \n",
      "(0.6859086537982358, 7.560417433140455e-06)\n"
     ]
    },
    {
     "data": {
      "image/png": "[encoded data removed]",
      "text/plain": [
       "<Figure size 432x288 with 1 Axes>"
      ]
     },
     "metadata": {
      "needs_background": "light"
     },
     "output_type": "display_data"
    }
   ],
   "source": [
    "GF = pd.read_csv(\"GF - Sheet1.csv\")\n",
    "print(GF.head())\n",
    "\n",
    "pearsoncorrGF = GF.corr(method = 'pearson')\n",
    "\n",
    "print('the pearson correlation Chart is: ')\n",
    "print(pearsoncorrGF)\n",
    "\n",
    "print('-----    ')\n",
    "print('the pearson correlation is: ')\n",
    "GFC = stats.pearsonr(GF.iloc[:,0],GF.iloc[:,1])\n",
    "print(GFC)\n",
    "\n",
    "pyplot.scatter(GF.iloc[:,0], GF.iloc[:,1])\n",
    "plt.title('GF scatterplot')\n",
    "pyplot.show()"
   ]
  },
  {
   "cell_type": "code",
   "execution_count": 108,
   "id": "0a262b6d",
   "metadata": {},
   "outputs": [
    {
     "name": "stdout",
     "output_type": "stream",
     "text": [
      "   Barca  RealMadrid\n",
      "0     26          37\n",
      "1     39          38\n",
      "2     33          37\n",
      "3     37          32\n",
      "4     34          28\n",
      "the pearson correlation chart is: \n",
      "               Barca  RealMadrid\n",
      "Barca       1.000000    0.275242\n",
      "RealMadrid  0.275242    1.000000\n",
      "-----    \n",
      "the pearson correlation is: \n",
      "(0.27524177341624967, 0.11514225679359272)\n"
     ]
    },
    {
     "data": {
      "image/png": "[encoded data removed]",
      "text/plain": [
       "<Figure size 432x288 with 1 Axes>"
      ]
     },
     "metadata": {
      "needs_background": "light"
     },
     "output_type": "display_data"
    }
   ],
   "source": [
    "GA = pd.read_csv(\"GA - Sheet1.csv\")\n",
    "print(GA.head())\n",
    "\n",
    "pearsoncorrGA = GA.corr(method = 'pearson')\n",
    "\n",
    "print('the pearson correlation chart is: ')\n",
    "print(pearsoncorrGA)\n",
    "\n",
    "print('-----    ')\n",
    "print('the pearson correlation is: ')\n",
    "GAC = stats.pearsonr(GA.iloc[:,0],GA.iloc[:,1])\n",
    "print(GAC)\n",
    "\n",
    "pyplot.scatter(GA.iloc[:,0], GA.iloc[:,1])\n",
    "plt.title('GA scatterplot')\n",
    "\n",
    "pyplot.show()"
   ]
  },
  {
   "cell_type": "code",
   "execution_count": null,
   "id": "cc97e1bf",
   "metadata": {},
   "outputs": [],
   "source": []
  }
 ],
 "metadata": {
  "kernelspec": {
   "display_name": "Python 3 (ipykernel)",
   "language": "python",
   "name": "python3"
  },
  "language_info": {
   "codemirror_mode": {
    "name": "ipython",
    "version": 3
   },
   "file_extension": ".py",
   "mimetype": "text/x-python",
   "name": "python",
   "nbconvert_exporter": "python",
   "pygments_lexer": "ipython3",
   "version": "3.9.7"
  }
 },
 "nbformat": 4,
 "nbformat_minor": 5
}
